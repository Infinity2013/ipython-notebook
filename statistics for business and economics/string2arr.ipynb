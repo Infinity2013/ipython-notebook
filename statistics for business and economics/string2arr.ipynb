{
 "cells": [
  {
   "cell_type": "code",
   "execution_count": 1,
   "metadata": {
    "collapsed": true
   },
   "outputs": [],
   "source": [
    "import sys"
   ]
  },
  {
   "cell_type": "code",
   "execution_count": 3,
   "metadata": {},
   "outputs": [],
   "source": [
    "def wrapper(s):\n",
    "    return \"'%s'\" % s\n",
    "    "
   ]
  },
  {
   "cell_type": "code",
   "execution_count": 11,
   "metadata": {},
   "outputs": [
    {
     "name": "stdout",
     "output_type": "stream",
     "text": [
      "50\n",
      "['wof','jep','jj','jep','thm','thm','wof','ows','jep','thm','jep','ows','wof','wof','wof','wof','thm','ows','thm','wof','thm','jj','jj','jep','thm','ows','ows','jj','jj','jep','jj','wof','thm','wof','wof','thm','thm','wof','jj','jj','jep','thm','wof','jep','jep','wof','thm','ows','ows','jep']\n"
     ]
    }
   ],
   "source": [
    "with open('string', 'r') as f:\n",
    "\n",
    "    line = f.readline()\n",
    "    arr = (map(wrapper, line.split()))\n",
    "    print len(arr)\n",
    "    arr = \",\".join(arr)\n",
    "    \n",
    "    print \"[%s]\" % arr"
   ]
  },
  {
   "cell_type": "code",
   "execution_count": null,
   "metadata": {
    "collapsed": true
   },
   "outputs": [],
   "source": []
  }
 ],
 "metadata": {
  "kernelspec": {
   "display_name": "Python 2",
   "language": "python",
   "name": "python2"
  },
  "language_info": {
   "codemirror_mode": {
    "name": "ipython",
    "version": 2
   },
   "file_extension": ".py",
   "mimetype": "text/x-python",
   "name": "python",
   "nbconvert_exporter": "python",
   "pygments_lexer": "ipython2",
   "version": "2.7.13"
  }
 },
 "nbformat": 4,
 "nbformat_minor": 2
}
