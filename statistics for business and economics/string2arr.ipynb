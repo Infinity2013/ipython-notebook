{
 "cells": [
  {
   "cell_type": "code",
   "execution_count": 2,
   "metadata": {
    "collapsed": true
   },
   "outputs": [],
   "source": [
    "import sys"
   ]
  },
  {
   "cell_type": "code",
   "execution_count": 3,
   "metadata": {
    "collapsed": true
   },
   "outputs": [],
   "source": [
    "def wrapper(s):\n",
    "    return \"'%s'\" % s\n",
    "    "
   ]
  },
  {
   "cell_type": "code",
   "execution_count": 6,
   "metadata": {},
   "outputs": [
    {
     "name": "stdout",
     "output_type": "stream",
     "text": [
      "55\n",
      "['l','p','c','h','2','p','r','1','s','s','1','l','p','r','p','p','p','p','r','c','s','l','r','p','c','c','p','p','r','p','2','3','p','h','l','p','1','c','p','p','p','s','1','l','r','r','1','2','h','s','3','h','2','l','p']\n"
     ]
    }
   ],
   "source": [
    "with open('string', 'r') as f:\n",
    "\n",
    "    line = f.readline()\n",
    "    arr = (map(wrapper, line.split()))\n",
    "    print len(arr)\n",
    "    arr = \",\".join(arr)\n",
    "    \n",
    "    print \"[%s]\" % arr"
   ]
  },
  {
   "cell_type": "code",
   "execution_count": null,
   "metadata": {
    "collapsed": true
   },
   "outputs": [],
   "source": []
  }
 ],
 "metadata": {
  "kernelspec": {
   "display_name": "Python 2",
   "language": "python",
   "name": "python2"
  },
  "language_info": {
   "codemirror_mode": {
    "name": "ipython",
    "version": 2
   },
   "file_extension": ".py",
   "mimetype": "text/x-python",
   "name": "python",
   "nbconvert_exporter": "python",
   "pygments_lexer": "ipython2",
   "version": "2.7.13"
  }
 },
 "nbformat": 4,
 "nbformat_minor": 2
}
